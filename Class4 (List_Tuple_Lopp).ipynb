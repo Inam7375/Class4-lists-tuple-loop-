{
 "cells": [
  {
   "cell_type": "code",
   "execution_count": 1,
   "metadata": {},
   "outputs": [
    {
     "data": {
      "text/plain": [
       "['__add__',\n",
       " '__class__',\n",
       " '__contains__',\n",
       " '__delattr__',\n",
       " '__delitem__',\n",
       " '__dir__',\n",
       " '__doc__',\n",
       " '__eq__',\n",
       " '__format__',\n",
       " '__ge__',\n",
       " '__getattribute__',\n",
       " '__getitem__',\n",
       " '__gt__',\n",
       " '__hash__',\n",
       " '__iadd__',\n",
       " '__imul__',\n",
       " '__init__',\n",
       " '__init_subclass__',\n",
       " '__iter__',\n",
       " '__le__',\n",
       " '__len__',\n",
       " '__lt__',\n",
       " '__mul__',\n",
       " '__ne__',\n",
       " '__new__',\n",
       " '__reduce__',\n",
       " '__reduce_ex__',\n",
       " '__repr__',\n",
       " '__reversed__',\n",
       " '__rmul__',\n",
       " '__setattr__',\n",
       " '__setitem__',\n",
       " '__sizeof__',\n",
       " '__str__',\n",
       " '__subclasshook__',\n",
       " 'append',\n",
       " 'clear',\n",
       " 'copy',\n",
       " 'count',\n",
       " 'extend',\n",
       " 'index',\n",
       " 'insert',\n",
       " 'pop',\n",
       " 'remove',\n",
       " 'reverse',\n",
       " 'sort']"
      ]
     },
     "execution_count": 1,
     "metadata": {},
     "output_type": "execute_result"
    }
   ],
   "source": [
    "dir(list)"
   ]
  },
  {
   "cell_type": "code",
   "execution_count": 2,
   "metadata": {},
   "outputs": [
    {
     "data": {
      "text/plain": [
       "46"
      ]
     },
     "execution_count": 2,
     "metadata": {},
     "output_type": "execute_result"
    }
   ],
   "source": [
    "len(dir(list))"
   ]
  },
  {
   "cell_type": "code",
   "execution_count": 5,
   "metadata": {},
   "outputs": [
    {
     "name": "stdout",
     "output_type": "stream",
     "text": [
      "[1, 2, 3, 4, 5, 6]\n",
      "[4, 5, 6]\n"
     ]
    }
   ],
   "source": [
    "l1 = [1, 2, 3]\n",
    "l2 = [4, 5, 6]\n",
    "\n",
    "l1.extend(l2) #in memory operation\n",
    "print(l1)\n",
    "print(l2)"
   ]
  },
  {
   "cell_type": "code",
   "execution_count": 6,
   "metadata": {},
   "outputs": [
    {
     "name": "stdout",
     "output_type": "stream",
     "text": [
      "0\n",
      "4\n"
     ]
    }
   ],
   "source": [
    "l1 = ['a', 'b', 'c',  'z', 'a', 'e', 'd']\n",
    "print(l1.index('a')) #by default starting from index from 0\n",
    "print(l1.index('a', 1)) #we assign the starting point by defauly i.e 1\n"
   ]
  },
  {
   "cell_type": "code",
   "execution_count": 8,
   "metadata": {},
   "outputs": [
    {
     "name": "stdout",
     "output_type": "stream",
     "text": [
      "first variable = a\n",
      "second variable = e\n",
      "third variable = d\n"
     ]
    }
   ],
   "source": [
    "names = [\"a\", \"b\", \"c\", \"d\", \"e\", \"a\"]\n",
    "frst_variable = names.pop(-1) #popping variable from the right end\n",
    "scnd_variable = names.pop(-1) #popping variable from the right end\n",
    "thrd_variable = names.pop(-1) #popping variable from the right end\n",
    "#printing the popped variables\n",
    "print(\"first variable = {}\\nsecond variable = {}\\nthird variable = {}\".format(frst_variable, scnd_variable, thrd_variable))"
   ]
  },
  {
   "cell_type": "code",
   "execution_count": 11,
   "metadata": {},
   "outputs": [
    {
     "name": "stdout",
     "output_type": "stream",
     "text": [
      "list of deleted variables ['a', 'e', 'd']\n"
     ]
    }
   ],
   "source": [
    "l1 = []\n",
    "names = [\"a\", \"b\", \"c\", \"d\", \"e\", \"a\"]\n",
    "frst_variable = names.pop() #popping variable from the right end by default\n",
    "scnd_variable = names.pop(-1) #popping variable from the right end\n",
    "thrd_variable = names.pop(-1) #popping variable from the right end\n",
    "l1.append(frst_variable) #appending the first variable in the list\n",
    "l1.append(scnd_variable) #appending the second variable in the list\n",
    "l1.append(thrd_variable) #appendig the third variable in the list\n",
    "#printing the list of popped variables\n",
    "print(\"list of deleted variables {}\".format(l1))"
   ]
  },
  {
   "cell_type": "code",
   "execution_count": 12,
   "metadata": {},
   "outputs": [
    {
     "name": "stdout",
     "output_type": "stream",
     "text": [
      "b\n"
     ]
    }
   ],
   "source": [
    "l1 = ['a', 'b', 'v', 'c', 'd']\n",
    "a = l1.pop(l1.index(\"b\")) #popping the element by value and return\n",
    "print(a)"
   ]
  },
  {
   "cell_type": "code",
   "execution_count": 13,
   "metadata": {},
   "outputs": [
    {
     "data": {
      "text/plain": [
       "['a', 'v', 'c', 'd']"
      ]
     },
     "execution_count": 13,
     "metadata": {},
     "output_type": "execute_result"
    }
   ],
   "source": [
    "l1 = ['a', 'b', 'v', 'c', 'd']\n",
    "l1.remove('b') #removing the element by value\n",
    "l1"
   ]
  },
  {
   "cell_type": "code",
   "execution_count": 15,
   "metadata": {},
   "outputs": [
    {
     "name": "stdout",
     "output_type": "stream",
     "text": [
      "['a', 'b', 'v', 'c']\n"
     ]
    }
   ],
   "source": [
    "l1 = ['a', 'b', 'v', 'c', 'd']\n",
    "del l1[-1] #deleting the value by index\n",
    "print(l1)"
   ]
  },
  {
   "cell_type": "code",
   "execution_count": 17,
   "metadata": {},
   "outputs": [
    {
     "name": "stdout",
     "output_type": "stream",
     "text": [
      "['A', 'B', 'C', 'X', 'Y']\n",
      "['Y', 'X', 'C', 'B', 'A']\n",
      "['A', 'B', 'C', 'X', 'Y']\n",
      "['Y', 'X', 'C', 'B', 'A']\n"
     ]
    }
   ],
   "source": [
    "l1 = ['A', 'B', 'C', 'X', 'Y']\n",
    "print(l1)\n",
    "l1.reverse() #in memory function and simply reverse the list\n",
    "print(l1)\n",
    "l1.sort() #place elements in ascending order and is in memory function\n",
    "print(l1)\n",
    "l1.sort(reverse = True)\n",
    "print(l1)"
   ]
  },
  {
   "cell_type": "code",
   "execution_count": 20,
   "metadata": {},
   "outputs": [
    {
     "name": "stdout",
     "output_type": "stream",
     "text": [
      "['A', 'X', 'B', 'C', 'D', 'E']\n"
     ]
    }
   ],
   "source": [
    "l1 = ['A', 'B', 'C', 'D', 'E']\n",
    "l1.insert(1, 'X') #insert the element before index\n",
    "print(l1)"
   ]
  },
  {
   "cell_type": "code",
   "execution_count": 21,
   "metadata": {},
   "outputs": [
    {
     "name": "stdout",
     "output_type": "stream",
     "text": [
      "[]\n"
     ]
    }
   ],
   "source": [
    "l1 = ['A', 'B', 'C', 'D', 'E']\n",
    "l1.clear() #clears the list\n",
    "print(l1)"
   ]
  },
  {
   "cell_type": "code",
   "execution_count": 23,
   "metadata": {},
   "outputs": [
    {
     "name": "stdout",
     "output_type": "stream",
     "text": [
      "True\n"
     ]
    }
   ],
   "source": [
    "l1 = ['A', 'B', 'C', 'D', 'E']\n",
    "'C' in l1 #returns true if c in l1\n",
    "print(l1.__contains__('C')) #returns true if c in l1"
   ]
  },
  {
   "cell_type": "code",
   "execution_count": 24,
   "metadata": {},
   "outputs": [
    {
     "name": "stdout",
     "output_type": "stream",
     "text": [
      "Help on class list in module builtins:\n",
      "\n",
      "class list(object)\n",
      " |  list(iterable=(), /)\n",
      " |  \n",
      " |  Built-in mutable sequence.\n",
      " |  \n",
      " |  If no argument is given, the constructor creates a new empty list.\n",
      " |  The argument must be an iterable if specified.\n",
      " |  \n",
      " |  Methods defined here:\n",
      " |  \n",
      " |  __add__(self, value, /)\n",
      " |      Return self+value.\n",
      " |  \n",
      " |  __contains__(self, key, /)\n",
      " |      Return key in self.\n",
      " |  \n",
      " |  __delitem__(self, key, /)\n",
      " |      Delete self[key].\n",
      " |  \n",
      " |  __eq__(self, value, /)\n",
      " |      Return self==value.\n",
      " |  \n",
      " |  __ge__(self, value, /)\n",
      " |      Return self>=value.\n",
      " |  \n",
      " |  __getattribute__(self, name, /)\n",
      " |      Return getattr(self, name).\n",
      " |  \n",
      " |  __getitem__(...)\n",
      " |      x.__getitem__(y) <==> x[y]\n",
      " |  \n",
      " |  __gt__(self, value, /)\n",
      " |      Return self>value.\n",
      " |  \n",
      " |  __iadd__(self, value, /)\n",
      " |      Implement self+=value.\n",
      " |  \n",
      " |  __imul__(self, value, /)\n",
      " |      Implement self*=value.\n",
      " |  \n",
      " |  __init__(self, /, *args, **kwargs)\n",
      " |      Initialize self.  See help(type(self)) for accurate signature.\n",
      " |  \n",
      " |  __iter__(self, /)\n",
      " |      Implement iter(self).\n",
      " |  \n",
      " |  __le__(self, value, /)\n",
      " |      Return self<=value.\n",
      " |  \n",
      " |  __len__(self, /)\n",
      " |      Return len(self).\n",
      " |  \n",
      " |  __lt__(self, value, /)\n",
      " |      Return self<value.\n",
      " |  \n",
      " |  __mul__(self, value, /)\n",
      " |      Return self*value.\n",
      " |  \n",
      " |  __ne__(self, value, /)\n",
      " |      Return self!=value.\n",
      " |  \n",
      " |  __repr__(self, /)\n",
      " |      Return repr(self).\n",
      " |  \n",
      " |  __reversed__(self, /)\n",
      " |      Return a reverse iterator over the list.\n",
      " |  \n",
      " |  __rmul__(self, value, /)\n",
      " |      Return value*self.\n",
      " |  \n",
      " |  __setitem__(self, key, value, /)\n",
      " |      Set self[key] to value.\n",
      " |  \n",
      " |  __sizeof__(self, /)\n",
      " |      Return the size of the list in memory, in bytes.\n",
      " |  \n",
      " |  append(self, object, /)\n",
      " |      Append object to the end of the list.\n",
      " |  \n",
      " |  clear(self, /)\n",
      " |      Remove all items from list.\n",
      " |  \n",
      " |  copy(self, /)\n",
      " |      Return a shallow copy of the list.\n",
      " |  \n",
      " |  count(self, value, /)\n",
      " |      Return number of occurrences of value.\n",
      " |  \n",
      " |  extend(self, iterable, /)\n",
      " |      Extend list by appending elements from the iterable.\n",
      " |  \n",
      " |  index(self, value, start=0, stop=9223372036854775807, /)\n",
      " |      Return first index of value.\n",
      " |      \n",
      " |      Raises ValueError if the value is not present.\n",
      " |  \n",
      " |  insert(self, index, object, /)\n",
      " |      Insert object before index.\n",
      " |  \n",
      " |  pop(self, index=-1, /)\n",
      " |      Remove and return item at index (default last).\n",
      " |      \n",
      " |      Raises IndexError if list is empty or index is out of range.\n",
      " |  \n",
      " |  remove(self, value, /)\n",
      " |      Remove first occurrence of value.\n",
      " |      \n",
      " |      Raises ValueError if the value is not present.\n",
      " |  \n",
      " |  reverse(self, /)\n",
      " |      Reverse *IN PLACE*.\n",
      " |  \n",
      " |  sort(self, /, *, key=None, reverse=False)\n",
      " |      Stable sort *IN PLACE*.\n",
      " |  \n",
      " |  ----------------------------------------------------------------------\n",
      " |  Static methods defined here:\n",
      " |  \n",
      " |  __new__(*args, **kwargs) from builtins.type\n",
      " |      Create and return a new object.  See help(type) for accurate signature.\n",
      " |  \n",
      " |  ----------------------------------------------------------------------\n",
      " |  Data and other attributes defined here:\n",
      " |  \n",
      " |  __hash__ = None\n",
      "\n"
     ]
    }
   ],
   "source": [
    "help(list)"
   ]
  },
  {
   "cell_type": "code",
   "execution_count": 27,
   "metadata": {},
   "outputs": [
    {
     "name": "stdout",
     "output_type": "stream",
     "text": [
      "True\n",
      "True\n"
     ]
    }
   ],
   "source": [
    "l1 = [5, 8, 9]\n",
    "l2 = [3, 2, 1]\n",
    "l3 = [5, 8, 9]\n",
    "l4 = [7, 8, 10]\n",
    "\n",
    "print(l4.__ge__(l1)) #returns true if elemts are greater or equal to\n",
    "print(l1.__eq__(l3)) #returns true if elements are equal"
   ]
  },
  {
   "cell_type": "markdown",
   "metadata": {},
   "source": [
    "# Tuple"
   ]
  },
  {
   "cell_type": "code",
   "execution_count": 29,
   "metadata": {},
   "outputs": [
    {
     "name": "stdout",
     "output_type": "stream",
     "text": [
      "Help on class tuple in module builtins:\n",
      "\n",
      "class tuple(object)\n",
      " |  tuple(iterable=(), /)\n",
      " |  \n",
      " |  Built-in immutable sequence.\n",
      " |  \n",
      " |  If no argument is given, the constructor returns an empty tuple.\n",
      " |  If iterable is specified the tuple is initialized from iterable's items.\n",
      " |  \n",
      " |  If the argument is a tuple, the return value is the same object.\n",
      " |  \n",
      " |  Methods defined here:\n",
      " |  \n",
      " |  __add__(self, value, /)\n",
      " |      Return self+value.\n",
      " |  \n",
      " |  __contains__(self, key, /)\n",
      " |      Return key in self.\n",
      " |  \n",
      " |  __eq__(self, value, /)\n",
      " |      Return self==value.\n",
      " |  \n",
      " |  __ge__(self, value, /)\n",
      " |      Return self>=value.\n",
      " |  \n",
      " |  __getattribute__(self, name, /)\n",
      " |      Return getattr(self, name).\n",
      " |  \n",
      " |  __getitem__(self, key, /)\n",
      " |      Return self[key].\n",
      " |  \n",
      " |  __getnewargs__(self, /)\n",
      " |  \n",
      " |  __gt__(self, value, /)\n",
      " |      Return self>value.\n",
      " |  \n",
      " |  __hash__(self, /)\n",
      " |      Return hash(self).\n",
      " |  \n",
      " |  __iter__(self, /)\n",
      " |      Implement iter(self).\n",
      " |  \n",
      " |  __le__(self, value, /)\n",
      " |      Return self<=value.\n",
      " |  \n",
      " |  __len__(self, /)\n",
      " |      Return len(self).\n",
      " |  \n",
      " |  __lt__(self, value, /)\n",
      " |      Return self<value.\n",
      " |  \n",
      " |  __mul__(self, value, /)\n",
      " |      Return self*value.\n",
      " |  \n",
      " |  __ne__(self, value, /)\n",
      " |      Return self!=value.\n",
      " |  \n",
      " |  __repr__(self, /)\n",
      " |      Return repr(self).\n",
      " |  \n",
      " |  __rmul__(self, value, /)\n",
      " |      Return value*self.\n",
      " |  \n",
      " |  count(self, value, /)\n",
      " |      Return number of occurrences of value.\n",
      " |  \n",
      " |  index(self, value, start=0, stop=9223372036854775807, /)\n",
      " |      Return first index of value.\n",
      " |      \n",
      " |      Raises ValueError if the value is not present.\n",
      " |  \n",
      " |  ----------------------------------------------------------------------\n",
      " |  Static methods defined here:\n",
      " |  \n",
      " |  __new__(*args, **kwargs) from builtins.type\n",
      " |      Create and return a new object.  See help(type) for accurate signature.\n",
      "\n"
     ]
    }
   ],
   "source": [
    "help(tuple)"
   ]
  },
  {
   "cell_type": "markdown",
   "metadata": {},
   "source": [
    "# Loop(While, for)"
   ]
  },
  {
   "cell_type": "code",
   "execution_count": 30,
   "metadata": {},
   "outputs": [],
   "source": [
    "#counter \n",
    "#Logic\n",
    "#increment, DecrementS"
   ]
  },
  {
   "cell_type": "code",
   "execution_count": 31,
   "metadata": {},
   "outputs": [
    {
     "name": "stdout",
     "output_type": "stream",
     "text": [
      "Pakistan 1\n",
      "Pakistan 2\n",
      "Pakistan 3\n",
      "Pakistan 4\n",
      "Pakistan 5\n",
      "Pakistan 6\n",
      "Pakistan 7\n",
      "Pakistan 8\n",
      "Pakistan 9\n",
      "Pakistan 10\n"
     ]
    }
   ],
   "source": [
    "counter = 1 #Counter\n",
    "while counter <= 10:\n",
    "    print(\"Pakistan\", counter)\n",
    "    counter +=1"
   ]
  },
  {
   "cell_type": "code",
   "execution_count": 33,
   "metadata": {},
   "outputs": [
    {
     "name": "stdout",
     "output_type": "stream",
     "text": [
      "Pakistan 1\n",
      "Pakistan 2\n",
      "Pakistan 3\n",
      "Pakistan 4\n",
      "Pakistan 5\n",
      "Pakistan 6\n",
      "Pakistan 7\n",
      "Pakistan 8\n",
      "Pakistan 9\n",
      "Pakistan 10\n"
     ]
    }
   ],
   "source": [
    "country = \"Pakistan\"\n",
    "for i in range(1, 11): #print country in range(value1 - value2)\n",
    "    print(country, i)"
   ]
  },
  {
   "cell_type": "code",
   "execution_count": 50,
   "metadata": {},
   "outputs": [
    {
     "name": "stdout",
     "output_type": "stream",
     "text": [
      "Enter any input4\n",
      "1 X 1 = 1\t2 X 1 = 2\t3 X 1 = 3\t4 X 1 = 4\t\n",
      "1 X 2 = 2\t2 X 2 = 4\t3 X 2 = 6\t4 X 2 = 8\t\n",
      "1 X 3 = 3\t2 X 3 = 6\t3 X 3 = 9\t4 X 3 = 12\t\n",
      "1 X 4 = 4\t2 X 4 = 8\t3 X 4 = 12\t4 X 4 = 16\t\n",
      "1 X 5 = 5\t2 X 5 = 10\t3 X 5 = 15\t4 X 5 = 20\t\n",
      "1 X 6 = 6\t2 X 6 = 12\t3 X 6 = 18\t4 X 6 = 24\t\n",
      "1 X 7 = 7\t2 X 7 = 14\t3 X 7 = 21\t4 X 7 = 28\t\n",
      "1 X 8 = 8\t2 X 8 = 16\t3 X 8 = 24\t4 X 8 = 32\t\n",
      "1 X 9 = 9\t2 X 9 = 18\t3 X 9 = 27\t4 X 9 = 36\t\n",
      "1 X 10 = 10\t2 X 10 = 20\t3 X 10 = 30\t4 X 10 = 40\t\n"
     ]
    }
   ],
   "source": [
    "user_input = int(input(\"Enter any input\")) #input the number from user\n",
    "for i in range(1, 11): #assign outer loop\n",
    "    for n in range(1, user_input+1): #assign the inner loop\n",
    "        print(f'{n} X {i} = {n*i}', end = '\\t') #multiply the number print it and give a tab space i.e. print this horizontally\n",
    "    print() #gives on next line\n",
    "    "
   ]
  },
  {
   "cell_type": "code",
   "execution_count": 57,
   "metadata": {},
   "outputs": [
    {
     "name": "stdout",
     "output_type": "stream",
     "text": [
      "Enter the number4\n"
     ]
    },
    {
     "data": {
      "text/plain": [
       "['1 X 1 = 1\\t',\n",
       " '2 X 1 = 2\\t',\n",
       " '3 X 1 = 3\\t',\n",
       " '4 X 1 = 4\\t',\n",
       " '1 X 2 = 2\\t',\n",
       " '2 X 2 = 4\\t',\n",
       " '3 X 2 = 6\\t',\n",
       " '4 X 2 = 8\\t',\n",
       " '1 X 3 = 3\\t',\n",
       " '2 X 3 = 6\\t',\n",
       " '3 X 3 = 9\\t',\n",
       " '4 X 3 = 12\\t',\n",
       " '1 X 4 = 4\\t',\n",
       " '2 X 4 = 8\\t',\n",
       " '3 X 4 = 12\\t',\n",
       " '4 X 4 = 16\\t',\n",
       " '1 X 5 = 5\\t',\n",
       " '2 X 5 = 10\\t',\n",
       " '3 X 5 = 15\\t',\n",
       " '4 X 5 = 20\\t',\n",
       " '1 X 6 = 6\\t',\n",
       " '2 X 6 = 12\\t',\n",
       " '3 X 6 = 18\\t',\n",
       " '4 X 6 = 24\\t',\n",
       " '1 X 7 = 7\\t',\n",
       " '2 X 7 = 14\\t',\n",
       " '3 X 7 = 21\\t',\n",
       " '4 X 7 = 28\\t',\n",
       " '1 X 8 = 8\\t',\n",
       " '2 X 8 = 16\\t',\n",
       " '3 X 8 = 24\\t',\n",
       " '4 X 8 = 32\\t',\n",
       " '1 X 9 = 9\\t',\n",
       " '2 X 9 = 18\\t',\n",
       " '3 X 9 = 27\\t',\n",
       " '4 X 9 = 36\\t',\n",
       " '1 X 10 = 10\\t',\n",
       " '2 X 10 = 20\\t',\n",
       " '3 X 10 = 30\\t',\n",
       " '4 X 10 = 40\\t']"
      ]
     },
     "execution_count": 57,
     "metadata": {},
     "output_type": "execute_result"
    }
   ],
   "source": [
    "user_input = int(input(\"Enter the number\"))\n",
    "[f'{n} X {i} = {i*n}' for i in range(1,11) for n in range(1, user_input+1)]\n"
   ]
  },
  {
   "cell_type": "code",
   "execution_count": null,
   "metadata": {},
   "outputs": [],
   "source": []
  }
 ],
 "metadata": {
  "kernelspec": {
   "display_name": "Python 3",
   "language": "python",
   "name": "python3"
  },
  "language_info": {
   "codemirror_mode": {
    "name": "ipython",
    "version": 3
   },
   "file_extension": ".py",
   "mimetype": "text/x-python",
   "name": "python",
   "nbconvert_exporter": "python",
   "pygments_lexer": "ipython3",
   "version": "3.7.3"
  }
 },
 "nbformat": 4,
 "nbformat_minor": 2
}
